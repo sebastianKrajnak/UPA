{
 "cells": [
  {
   "cell_type": "code",
   "execution_count": 22,
   "metadata": {},
   "outputs": [],
   "source": [
    "import requests\n",
    "from bs4 import BeautifulSoup\n",
    "from pandas import DataFrame"
   ]
  },
  {
   "cell_type": "code",
   "execution_count": 8,
   "metadata": {},
   "outputs": [],
   "source": [
    "with open('urls.txt', 'r') as f:\n",
    "    urls = [line[:-1] for line in f.readlines()]"
   ]
  },
  {
   "cell_type": "code",
   "execution_count": 31,
   "metadata": {},
   "outputs": [
    {
     "data": {
      "text/plain": [
       "[('https://www.key4you.cz/produkt/detaily/2257-kobra-11-highway-nights-crash-time-iii/',\n",
       "  'Kobra 11 Highway Nights, Crash Time III',\n",
       "  '99 Kč'),\n",
       " ('https://www.key4you.cz/produkt/detaily/2332-krtek-a-jeho-velike-dobrodruzstvi/',\n",
       "  'Krtek a jeho veliké dobrodružství',\n",
       "  '99 Kč'),\n",
       " ('https://www.key4you.cz/produkt/detaily/17-world-of-warcraft-60-dni-predplacena-karta-wow/',\n",
       "  'World of Warcraft 60 Dní předplacená karta | WOW',\n",
       "  '749 Kč'),\n",
       " ('https://www.key4you.cz/produkt/detaily/8401-god-of-war/',\n",
       "  'God of War',\n",
       "  '849 Kč'),\n",
       " ('https://www.key4you.cz/produkt/detaily/7512-age-of-empires-ii-definitive-edition/',\n",
       "  'Age of Empires II Definitive Edition',\n",
       "  '209 Kč')]"
      ]
     },
     "execution_count": 31,
     "metadata": {},
     "output_type": "execute_result"
    }
   ],
   "source": [
    "result = []\n",
    "for url in urls[:5]:\n",
    "    r = requests.get(url)\n",
    "    soup = BeautifulSoup(r.content, \"html.parser\")\n",
    "    game_name = soup.find(\"h1\", class_=\"title-h1\").contents[0]\n",
    "    price = soup.find(\"div\", class_=\"detail__price\").contents[0]\n",
    "    result.append((url, game_name, price))\n",
    "result"
   ]
  },
  {
   "cell_type": "code",
   "execution_count": 35,
   "metadata": {},
   "outputs": [
    {
     "data": {
      "text/html": [
       "<div>\n",
       "<style scoped>\n",
       "    .dataframe tbody tr th:only-of-type {\n",
       "        vertical-align: middle;\n",
       "    }\n",
       "\n",
       "    .dataframe tbody tr th {\n",
       "        vertical-align: top;\n",
       "    }\n",
       "\n",
       "    .dataframe thead th {\n",
       "        text-align: right;\n",
       "    }\n",
       "</style>\n",
       "<table border=\"1\" class=\"dataframe\">\n",
       "  <thead>\n",
       "    <tr style=\"text-align: right;\">\n",
       "      <th></th>\n",
       "      <th>0</th>\n",
       "      <th>1</th>\n",
       "      <th>2</th>\n",
       "    </tr>\n",
       "  </thead>\n",
       "  <tbody>\n",
       "    <tr>\n",
       "      <th>0</th>\n",
       "      <td>https://www.key4you.cz/produkt/detaily/2257-ko...</td>\n",
       "      <td>Kobra 11 Highway Nights, Crash Time III</td>\n",
       "      <td>99 Kč</td>\n",
       "    </tr>\n",
       "    <tr>\n",
       "      <th>1</th>\n",
       "      <td>https://www.key4you.cz/produkt/detaily/2332-kr...</td>\n",
       "      <td>Krtek a jeho veliké dobrodružství</td>\n",
       "      <td>99 Kč</td>\n",
       "    </tr>\n",
       "    <tr>\n",
       "      <th>2</th>\n",
       "      <td>https://www.key4you.cz/produkt/detaily/17-worl...</td>\n",
       "      <td>World of Warcraft 60 Dní předplacená karta | WOW</td>\n",
       "      <td>749 Kč</td>\n",
       "    </tr>\n",
       "    <tr>\n",
       "      <th>3</th>\n",
       "      <td>https://www.key4you.cz/produkt/detaily/8401-go...</td>\n",
       "      <td>God of War</td>\n",
       "      <td>849 Kč</td>\n",
       "    </tr>\n",
       "    <tr>\n",
       "      <th>4</th>\n",
       "      <td>https://www.key4you.cz/produkt/detaily/7512-ag...</td>\n",
       "      <td>Age of Empires II Definitive Edition</td>\n",
       "      <td>209 Kč</td>\n",
       "    </tr>\n",
       "  </tbody>\n",
       "</table>\n",
       "</div>"
      ],
      "text/plain": [
       "                                                   0  \\\n",
       "0  https://www.key4you.cz/produkt/detaily/2257-ko...   \n",
       "1  https://www.key4you.cz/produkt/detaily/2332-kr...   \n",
       "2  https://www.key4you.cz/produkt/detaily/17-worl...   \n",
       "3  https://www.key4you.cz/produkt/detaily/8401-go...   \n",
       "4  https://www.key4you.cz/produkt/detaily/7512-ag...   \n",
       "\n",
       "                                                  1       2  \n",
       "0           Kobra 11 Highway Nights, Crash Time III   99 Kč  \n",
       "1                 Krtek a jeho veliké dobrodružství   99 Kč  \n",
       "2  World of Warcraft 60 Dní předplacená karta | WOW  749 Kč  \n",
       "3                                        God of War  849 Kč  \n",
       "4              Age of Empires II Definitive Edition  209 Kč  "
      ]
     },
     "execution_count": 35,
     "metadata": {},
     "output_type": "execute_result"
    }
   ],
   "source": [
    "df = DataFrame.from_records(result)\n",
    "df.to_csv(\"data.tsv\", sep=\"\\t\", header=False, index=False)\n",
    "df"
   ]
  }
 ],
 "metadata": {
  "kernelspec": {
   "display_name": "Python 3.10.8 64-bit (microsoft store)",
   "language": "python",
   "name": "python3"
  },
  "language_info": {
   "codemirror_mode": {
    "name": "ipython",
    "version": 3
   },
   "file_extension": ".py",
   "mimetype": "text/x-python",
   "name": "python",
   "nbconvert_exporter": "python",
   "pygments_lexer": "ipython3",
   "version": "3.10.8"
  },
  "orig_nbformat": 4,
  "vscode": {
   "interpreter": {
    "hash": "138e7577a3334ad883e1cfa23e5693695db1bf407ed2f8f7eb77b4758f509e77"
   }
  }
 },
 "nbformat": 4,
 "nbformat_minor": 2
}
